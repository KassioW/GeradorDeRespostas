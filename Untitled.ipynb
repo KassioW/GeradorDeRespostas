{
 "cells": [
  {
   "cell_type": "code",
   "execution_count": 2,
   "id": "86039a40",
   "metadata": {},
   "outputs": [
    {
     "name": "stdout",
     "output_type": "stream",
     "text": [
      "✔ Download and installation successful\n",
      "You can now load the package via spacy.load('en_core_web_sm')\n"
     ]
    }
   ],
   "source": [
    "from chatterbot import ChatBot\n",
    "from chatterbot.trainers import ListTrainer\n",
    "\n",
    "from spacy.cli import download\n",
    "\n",
    "download(\"en_core_web_sm\")\n",
    "\n",
    "class ENGSM:\n",
    "    ISO_639_1 = 'en_core_web_sm'\n",
    "\n"
   ]
  },
  {
   "cell_type": "code",
   "execution_count": 5,
   "id": "3381b656",
   "metadata": {},
   "outputs": [
    {
     "name": "stdout",
     "output_type": "stream",
     "text": [
      "List Trainer: [####################] 100%\n"
     ]
    }
   ],
   "source": [
    "chatbot = ChatBot(\"BotKas\", tagger_language=ENGSM)\n",
    "\n",
    "conversa = [\n",
    "    \"Como reiniciar meu computador?\", \n",
    "     \"Desligue o computador e ligue-o novamente.\", \n",
    "     \"Pressione o botão de energia por alguns segundos até o computador desligar.\",\n",
    "    \"Meu computador está lento\", \n",
    "     \"Tente fechar programas que você não está usando.\", \n",
    "     \"Execute uma verificação de vírus.\", \n",
    "     \"Limpe o cache do seu navegador.\", \n",
    "     \"Verifique se há espaço livre no disco rígido.\",\n",
    "    \"O que fazer se meu wifi não estiver funcionando?\", \n",
    "     \"Verifique se o roteador está ligado e se você está dentro do alcance da rede.\",\n",
    "     \"Reinicie o roteador e o seu dispositivo.\",\n",
    "     \"Verifique se o nome da rede está correto e se você inseriu a senha correta.\",\n",
    "    \"Minha impressora não está imprimindo\", \n",
    "     \"Verifique se a impressora está ligada e se há papel.\", \n",
    "     \"Verifique a conexão USB ou wireless.\", \n",
    "     \"Tente reiniciar a impressora e o computador.\", \n",
    "     \"Verifique se os drivers da impressora estão atualizados.\",\n",
    "    \"Como criar uma nova conta de usuário?\", \n",
    "     \"Acesse as configurações do sistema e procure por 'Criar uma nova conta'.\",\n",
    "     \"Siga as instruções na tela para criar a conta.\",\n",
    "    \"Esqueci minha senha\", \n",
    "     \"Tente recuperar sua senha usando a opção de recuperação de senha.\", \n",
    "     \"Se você não conseguir recuperar sua senha, entre em contato com o administrador do sistema.\",\n",
    "    \"Meu mouse não está funcionando\", \n",
    "     \"Verifique se o mouse está conectado corretamente ao computador.\", \n",
    "     \"Tente usar outro mouse.\", \n",
    "     \"Verifique se o mouse possui baterias ou se está ligado.\", \n",
    "     \"Verifique se o mouse está funcionando em outro computador.\",\n",
    "    \"Meu teclado não está funcionando\", \n",
    "     \"Verifique se o teclado está conectado corretamente ao computador.\", \n",
    "     \"Tente usar outro teclado.\", \n",
    "     \"Verifique se o teclado possui baterias ou se está ligado.\", \n",
    "     \"Verifique se o teclado está funcionando em outro computador.\",\n",
    "    \"O que é um firewall?\", \n",
    "     \"Um firewall é um sistema de segurança que protege seu computador de acesso não autorizado.\", \n",
    "     \"Ele bloqueia conexões de entrada e saída não autorizadas.\", \n",
    "     \"É importante manter o firewall do seu computador ativado.\",\n",
    "    \"O que é um vírus?\", \n",
    "     \"Um vírus é um programa malicioso que pode danificar seu computador.\", \n",
    "     \"Vírus podem ser transmitidos por email, downloads ou sites infectados.\", \n",
    "     \"É importante instalar um antivírus para proteger seu computador de vírus.\",\n",
    "    \"Como faço backup dos meus arquivos?\", \n",
    "     \"Você pode fazer backup dos seus arquivos em um disco rígido externo, um serviço de armazenamento em nuvem ou em outro computador.\", \n",
    "     \"É importante fazer backup regularmente para evitar a perda de dados.\"\n",
    "]\n",
    "\n",
    "trainer = ListTrainer(chatbot)\n",
    "trainer.train(conversa)"
   ]
  },
  {
   "cell_type": "code",
   "execution_count": 9,
   "id": "7b6ffa37",
   "metadata": {},
   "outputs": [
    {
     "data": {
      "text/plain": [
       "<Statement text:Você pode fazer backup dos seus arquivos em um disco rígido externo, um serviço de armazenamento em nuvem ou em outro computador.>"
      ]
     },
     "execution_count": 9,
     "metadata": {},
     "output_type": "execute_result"
    }
   ],
   "source": [
    "chatbot.get_response(\"Como faço backup dos meus arquivos?\")"
   ]
  },
  {
   "cell_type": "code",
   "execution_count": null,
   "id": "9d486241",
   "metadata": {},
   "outputs": [],
   "source": []
  }
 ],
 "metadata": {
  "kernelspec": {
   "display_name": "Python 3",
   "language": "python",
   "name": "python3"
  },
  "language_info": {
   "codemirror_mode": {
    "name": "ipython",
    "version": 3
   },
   "file_extension": ".py",
   "mimetype": "text/x-python",
   "name": "python",
   "nbconvert_exporter": "python",
   "pygments_lexer": "ipython3",
   "version": "3.6.13"
  }
 },
 "nbformat": 4,
 "nbformat_minor": 5
}
