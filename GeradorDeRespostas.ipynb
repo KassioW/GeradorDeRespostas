{
 "cells": [
  {
   "cell_type": "code",
   "execution_count": 14,
   "id": "7c5718c9",
   "metadata": {},
   "outputs": [
    {
     "name": "stdout",
     "output_type": "stream",
     "text": [
      "✔ Download and installation successful\n",
      "You can now load the package via spacy.load('en_core_web_sm')\n"
     ]
    }
   ],
   "source": [
    "import chatterbot\n",
    "from chatterbot import ChatBot\n",
    "from chatterbot.trainers import ListTrainer\n",
    "from chatterbot.trainers import ChatterBotCorpusTrainer\n",
    "from spacy.cli import download\n",
    "import yaml\n",
    "import os\n",
    "import sys\n",
    "import chatterbot_corpus\n",
    "\n",
    "download(\"en_core_web_sm\")\n",
    "\n",
    "class ENGSM:\n",
    "    ISO_639_1 = 'en_core_web_sm'"
   ]
  },
  {
   "cell_type": "code",
   "execution_count": 15,
   "id": "f299207d",
   "metadata": {
    "scrolled": true
   },
   "outputs": [
    {
     "name": "stdout",
     "output_type": "stream",
     "text": [
      "List Trainer: [####################] 100%\n"
     ]
    }
   ],
   "source": [
    "chatbot = ChatBot(\"BotKas\", tagger_language=ENGSM)\n",
    "\n",
    "conversa = [\n",
    "    \"Olá\",\n",
    "    \"Olá! Como posso ajudar você?\",\n",
    "    \"Bom dia\",\n",
    "    \"Bom dia! Como posso ajudar você?\",\n",
    "    \"Boa tarde\",\n",
    "    \"Boa tarde! Como posso ajudar você?\",\n",
    "    \"Boa noite\",\n",
    "    \"Boa noite! Como posso ajudar você?\",\n",
    "    \"Tudo bem?\",\n",
    "    \"Tudo bem, e com você?\",\n",
    "    \"Estou bem também\",\n",
    "    \"Que ótimo, como posso ajudá-lo?\",\n",
    "    \"Como vai você?\",\n",
    "    \"Estou bem, obrigado! E você?\",\n",
    "    \"Posso te ajudar?\",\n",
    "    \"Sim, por favor!\",\n",
    "    \"O que você precisa?\",\n",
    "    \"Preciso de ajuda com...\",\n",
    "    \"Preciso de informações sobre...\",\n",
    "    \"Você pode me dizer...\",\n",
    "    \"Claro, pode me dizer.\",\n",
    "    \"Pode me ajudar com isso?\",\n",
    "    \"Com certeza!\",\n",
    "    \"Obrigado!\",\n",
    "    \"De nada!\",\n",
    "    \"Você é muito gentil!\",\n",
    "    \"Imagina!\",\n",
    "    \"Até mais!\",\n",
    "    \"Até mais!\",\n",
    "    \"Tchau!\",\n",
    "    \"Tchau!\",\n",
    "    \"Ok\",\n",
    "    \"Ok\",\n",
    "    \"Meu computador está com problema\",\n",
    "    \"Qual o problema com seu computador?\",\n",
    "    \"Como reiniciar meu computador?\",\n",
    "    \"Pressione o botão de energia por alguns segundos até o computador desligar.\",\n",
    "    \"Meu computador está lento\",\n",
    "    \"Tente fechar programas que você não está usando. Execute uma verificação de vírus. Limpe o cache do seu navegador. Verifique se há espaço livre no disco rígido.\",\n",
    "    \"O que fazer se meu wifi não estiver funcionando?\",\n",
    "    \"Verifique se o roteador está ligado e se você está dentro do alcance da rede. Reinicie o roteador e o seu dispositivo. Verifique se o nome da rede está correto e se você inseriu a senha correta.\",\n",
    "    \"Minha impressora não está imprimindo\",\n",
    "    \"Verifique se a impressora está ligada e se há papel. Verifique a conexão USB ou wireless. Tente reiniciar a impressora e o computador. Verifique se os drivers da impressora estão atualizados.\",\n",
    "    \"Como criar uma nova conta de usuário?\",\n",
    "    \"Acesse as configurações do sistema e procure por 'Criar uma nova conta'. Siga as instruções na tela para criar a conta.\",\n",
    "    \"Esqueci minha senha\",\n",
    "    \"Tente recuperar sua senha usando a opção de recuperação de senha. Se você não conseguir recuperar sua senha, entre em contato com o administrador do sistema.\",\n",
    "    \"Meu mouse não está funcionando\",\n",
    "    \"Verifique se o mouse está conectado corretamente ao computador. Tente usar outro mouse. Verifique se o mouse possui baterias ou se está ligado. Verifique se o mouse está funcionando em outro computador.\",\n",
    "    \"Meu teclado não está funcionando\",\n",
    "    \"Verifique se o teclado está conectado corretamente ao computador.  Tente usar outro teclado. Verifique se o teclado possui baterias ou se está ligado.Verifique se o teclado está funcionando em outro computador.\",\n",
    "    \"O que é um firewall?\",\n",
    "    \"Um firewall é um sistema de segurança que protege seu computador de acesso não autorizado. Ele bloqueia conexões de entrada e saída não autorizadas. É importante manter o firewall do seu computador ativado.\",\n",
    "    \"O que é um vírus?\",\n",
    "    \"Um vírus é um programa malicioso que pode danificar seu computador. Vírus podem ser transmitidos por email, downloads ou sites infectados. É importante instalar um antivírus para proteger seu computador de vírus.\",\n",
    "    \"Como faço backup dos meus arquivos?\",\n",
    "    \"Você pode fazer backup dos seus arquivos em um disco rígido externo, um serviço de armazenamento em nuvem ou em outro computador. É importante fazer backup regularmente para evitar a perda de dados.\",\n",
    "    \"O que devo fazer se meu computador estiver travando?\",\n",
    "    \"Reinicie seu computador. Verifique se há programas ou processos em execução que podem estar causando o travamento. Execute uma verificação de vírus. Verifique se há espaço livre no disco rígido.\",\n",
    "    \"O que é um driver?\",\n",
    "    \"Um driver é um programa que permite que o sistema operacional interaja com os dispositivos conectados ao seu computador. Você precisa de drivers para sua impressora, placa de vídeo, teclado, mouse, etc.\",\n",
    "    \"Como atualizar os drivers do meu computador?\",\n",
    "    \"Você pode atualizar os drivers automaticamente através do Windows Update. Você também pode baixar os drivers mais recentes para os seus dispositivos no site do fabricante.\",\n",
    "    \"Meu computador está dando tela azul.\",\n",
    "    \"O erro de tela azul é connhecido como tela azul da morte (BSOD), Isso pode indicar um problema de hardware ou software.. tente reiniciar o computador para ver se o problema é resolvido e se o problema persistir, você pode tentar restaurar o sistema para um ponto anterior no tempo.\",\n",
    "    \"O que é um disco rígido?\",\n",
    "    \"Um disco rígido é o componente do computador que armazena seus dados. Ele armazena seu sistema operacional, programas e arquivos. Você pode ter um disco rígido interno ou externo.\",\n",
    "    \"O que é a memória RAM?\",\n",
    "    \"A memória RAM (Random Access Memory) é a memória de acesso aleatório do seu computador. É usada para armazenar informações que o computador está ativamente usando. Quanto mais RAM você tiver, mais rápido seu computador será.\",\n",
    "    \"O que é a CPU?\",\n",
    "    \"A CPU (Central Processing Unit) é o cérebro do seu computador. Ela processa todas as instruções do seu computador. Quanto mais rápida sua CPU, mais rápido seu computador será.\",\n",
    "    \"O que é um antivírus?\",\n",
    "    \"Um antivírus é um programa que protege seu computador de vírus. Ele detecta e remove vírus do seu computador. É importante instalar e manter um antivírus atualizado.\",\n",
    "    \"O que é um sistema operacional?\",\n",
    "    \"O sistema operacional é o software que controla o hardware do seu computador. Ele permite que você interaja com o seu computador e usa programas. Exemplos de sistemas operacionais incluem Windows, macOS e Linux.\",\n",
    "    \"O que é a Internet?\",\n",
    "    \"A Internet é uma rede global de computadores. Ela permite que você se conecte a outros computadores e acesse informações online.\",\n",
    "    \"O que é um navegador?\",\n",
    "    \"Um navegador é um programa que permite que você navegue na Internet. Exemplos de navegadores incluem Chrome, Firefox e Safari.\",\n",
    "    \"O que é um email?\",\n",
    "    \"O email é uma forma de comunicação eletrônica.Ele permite que você envie e receba mensagens entre computadores.\",\n",
    "    \"O que é um website?\",\n",
    "    \"Um website é um conjunto de páginas web acessíveis através da Internet. Eles contêm informações, imagens e outras mídias.\",\n",
    "    \"O que é um arquivo?\",\n",
    "    \"Um arquivo é uma coleção de dados armazenados em um computador. Ele pode conter texto, imagens, vídeos, músicas ou outros tipos de dados.\",\n",
    "    \"Como posso saber se meu computador tem um vírus?\",\n",
    "    \"Existem vários sinais que podem indicar que seu computador pode estar infectado por um vírus, como lentidão, programas travando, mensagens de erro, programas abrindo sozinhos, arquivos desaparecendo, novos programas instalados sem seu consentimento, ou mudanças no navegador. No entanto, é importante observar que esses sinais também podem ser causados por outros problemas.\",\n",
    "    \"O que é ransomware?\",\n",
    "    \"Ransomware é um tipo de malware que criptografa os arquivos do usuário e exige um pagamento para que os arquivos sejam descriptografados.\",\n",
    "    \"Como posso me proteger de ransomware?\",\n",
    "    \"Existem várias maneiras de se proteger de ransomware, como manter seu sistema operacional e software atualizados, instalar um antivírus e anti-malware confiável, evitar clicar em links suspeitos, não abrir anexos de emails suspeitos, ter cuidado com downloads de arquivos, fazer backups regulares e ter uma cópia offline dos dados importantes.\",\n",
    "    \"Como posso remover ransomware do meu computador?\",\n",
    "    \"Se você acredita que seu computador está infectado com ransomware, você deve procurar a ajuda de um profissional de segurança cibernética. Não pague o resgate exigido pelos criminosos.\",\n",
    "    \"O que é um phishing?\",\n",
    "    \"Phishing é uma técnica usada por criminosos para roubar informações pessoais, como senhas e dados bancários, através de emails ou websites falsos.\",\n",
    "    \"Como posso me proteger de phishing?\",\n",
    "    \"Existem várias maneiras de se proteger de phishing, como verificar o remetente do email, não clicar em links suspeitos, não abrir anexos de emails suspeitos, ter cuidado com websites que solicitam informações pessoais e nunca inserir seus dados em websites não confiáveis.\"\n",
    "]\n",
    "\n",
    "trainer = ListTrainer(chatbot)\n",
    "trainer.train(conversa)\n",
    "\n",
    "corpus_trainer = ChatterBotCorpusTrainer(chatbot)\n",
    "                  "
   ]
  },
  {
   "cell_type": "code",
   "execution_count": 16,
   "id": "44b9d31e",
   "metadata": {},
   "outputs": [
    {
     "name": "stdout",
     "output_type": "stream",
     "text": [
      "Mande uma mensagem para o gerador:Olá\n",
      "Kas Bot:  Olá! Como posso ajudar você?\n",
      "Mande uma mensagem para o gerador:Tudo bem?\n",
      "Kas Bot:  Tudo bem, e com você?\n",
      "Mande uma mensagem para o gerador:Estou bem também\n",
      "Kas Bot:  Que ótimo, como posso ajudá-lo?\n",
      "Mande uma mensagem para o gerador:Meu computador está com problema\n",
      "Kas Bot:  Qual o problema com seu computador?\n",
      "Mande uma mensagem para o gerador:Meu computador está com tela azul\n",
      "Kas Bot: Desculpe, não entendi. Você pode reformular a pergunta?\n",
      "Mande uma mensagem para o gerador:Meu computador está dando tela azul\n",
      "Kas Bot:  O erro de tela azul é connhecido como tela azul da morte (BSOD), Isso pode indicar um problema de hardware ou software.. tente reiniciar o computador para ver se o problema é resolvido e se o problema persistir, você pode tentar restaurar o sistema para um ponto anterior no tempo.\n",
      "Mande uma mensagem para o gerador:Ok\n",
      "Kas Bot: Desculpe, não entendi. Você pode reformular a pergunta?\n",
      "Mande uma mensagem para o gerador:parar\n"
     ]
    }
   ],
   "source": [
    "while True:\n",
    "    mensagem = input(\"Mande uma mensagem para o gerador:\")\n",
    "    if mensagem == \"parar\":\n",
    "        break\n",
    "        \n",
    "    if mensagem == \"reiniciar banco\":\n",
    "        chatbot.storage.drop()\n",
    "        print(\"Kas Bot: o banco foi reiniciado com sucesso\")\n",
    "        break\n",
    "    \n",
    "    resposta = chatbot.get_response(mensagem)\n",
    "    if resposta.confidence > 0.5:\n",
    "        print('Kas Bot: ', resposta)\n",
    "    else:\n",
    "        print('Kas Bot: Desculpe, não entendi. Você pode reformular a pergunta?')"
   ]
  },
  {
   "cell_type": "code",
   "execution_count": null,
   "id": "01c7df1d",
   "metadata": {},
   "outputs": [],
   "source": [
    "\n"
   ]
  },
  {
   "cell_type": "code",
   "execution_count": null,
   "id": "e42ceea6",
   "metadata": {},
   "outputs": [],
   "source": []
  },
  {
   "cell_type": "code",
   "execution_count": null,
   "id": "615e9f3e",
   "metadata": {},
   "outputs": [],
   "source": []
  }
 ],
 "metadata": {
  "kernelspec": {
   "display_name": "Python 3",
   "language": "python",
   "name": "python3"
  },
  "language_info": {
   "codemirror_mode": {
    "name": "ipython",
    "version": 3
   },
   "file_extension": ".py",
   "mimetype": "text/x-python",
   "name": "python",
   "nbconvert_exporter": "python",
   "pygments_lexer": "ipython3",
   "version": "3.6.13"
  }
 },
 "nbformat": 4,
 "nbformat_minor": 5
}
